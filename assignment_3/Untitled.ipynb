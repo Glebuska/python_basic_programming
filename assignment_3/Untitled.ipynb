{
 "cells": [
  {
   "cell_type": "code",
   "execution_count": null,
   "metadata": {},
   "outputs": [
    {
     "name": "stdout",
     "output_type": "stream",
     "text": [
      "Original Dimensions :  (1200, 1200, 3)\n",
      "Resized Dimensions :  (300, 300, 3)\n"
     ]
    }
   ],
   "source": [
    "import cv2\n",
    "import random\n",
    "import numpy as np\n",
    "\n",
    "img = cv2.imread('roses.jpg', cv2.IMREAD_UNCHANGED)\n",
    " \n",
    "print('Original Dimensions : ',img.shape)\n",
    " \n",
    "scale_percent = 50 # percent of original size\n",
    "width = int(img.shape[1] * scale_percent / 100)\n",
    "height = int(img.shape[0] * scale_percent / 100)\n",
    "dim = (width, height)\n",
    "# resize image\n",
    "resized2 = cv2.resize(img, dim, interpolation = cv2.INTER_AREA)\n",
    "resized4 = cv2.resize(img, None, fx=0.25, fy=0.25, interpolation = cv2.INTER_AREA)\n",
    "\n",
    "edges = cv2.Canny(resized2, 500, 500)\n",
    "\n",
    "kernel = np.ones((6, 6), np.float32) / 36\n",
    "dst_ker = cv2.filter2D(img, -1, kernel)\n",
    "dst = cv2.blur(resized4, (5, 5))\n",
    "\n",
    "blur = cv2.GaussianBlur(resized4, (5,5), 0)\n",
    " \n",
    "print('Resized Dimensions : ',resized4.shape)\n",
    "\n",
    "b, g, r = cv2.split(img)\n",
    "random.shuffle(b)\n",
    "random.shuffle(g)\n",
    "random.shuffle(b)\n",
    "shuffle_image = cv2.merge((shuffle_r, shuffle_g, shuffle_b))\n",
    "\n",
    "cv2.imshow(\"Resized image\", shuffle_image)\n",
    "cv2.waitKey(0)\n",
    "cv2.destroyAllWindows()"
   ]
  },
  {
   "cell_type": "code",
   "execution_count": null,
   "metadata": {},
   "outputs": [],
   "source": []
  },
  {
   "cell_type": "code",
   "execution_count": null,
   "metadata": {},
   "outputs": [],
   "source": []
  }
 ],
 "metadata": {
  "kernelspec": {
   "display_name": "Python 3",
   "language": "python",
   "name": "python3"
  },
  "language_info": {
   "codemirror_mode": {
    "name": "ipython",
    "version": 3
   },
   "file_extension": ".py",
   "mimetype": "text/x-python",
   "name": "python",
   "nbconvert_exporter": "python",
   "pygments_lexer": "ipython3",
   "version": "3.7.6"
  }
 },
 "nbformat": 4,
 "nbformat_minor": 4
}
