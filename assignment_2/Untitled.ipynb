{
 "cells": [
  {
   "cell_type": "code",
   "execution_count": 145,
   "metadata": {},
   "outputs": [
    {
     "name": "stdout",
     "output_type": "stream",
     "text": [
      "{'shortName': 'Джинсы', 'brandName': 'ТВОЕ ', 'price': 1637}\n",
      "{'shortName': 'Джинсы', 'brandName': 'Katebi ', 'price': 2500}\n",
      "{'shortName': 'Джинсы', 'brandName': 'ТВОЕ ', 'price': 1376}\n",
      "{'shortName': 'Джинсы', 'brandName': 'ТВОЕ ', 'price': 3187}\n",
      "{'shortName': 'Джинсы - JAN6', 'brandName': 'MANGO MAN ', 'price': 4335}\n",
      "{'shortName': 'Джинсы ARIZONA', 'brandName': 'Wrangler ', 'price': 2388}\n",
      "{'shortName': 'Джинсы', 'brandName': \"O'STIN \", 'price': 2400}\n",
      "{'shortName': \"Джинсы 'Flex Slim'\", 'brandName': 'skills ', 'price': 4122}\n",
      "{'shortName': 'Джинсы', 'brandName': 'Hardsoda 1981 ', 'price': 3499}\n",
      "{'shortName': 'Джинсы 514 Straight Fit', 'brandName': \"Levi's® \", 'price': 2499}\n",
      "{'shortName': 'Брюки Джинсы', 'brandName': 'MANGUER ', 'price': 2388}\n",
      "{'shortName': 'Джинсы', 'brandName': \"O'STIN \", 'price': 4939}\n",
      "{'shortName': 'Джинсы', 'brandName': 'Lang Lu Ka ', 'price': 3495}\n",
      "{'shortName': 'Джинсы', 'brandName': 'THE GANGSTER ', 'price': 1172}\n",
      "{'shortName': 'Джинсы', 'brandName': 'U.S. Polo Assn. ', 'price': 5015}\n",
      "{'shortName': 'Джинсы', 'brandName': 'MEXX ', 'price': 3995}\n",
      "{'shortName': 'Джинсы', 'brandName': \"Colin's \", 'price': 8875}\n",
      "{'shortName': 'Джинсы - JUDE6', 'brandName': 'MANGO MAN ', 'price': 2226}\n",
      "{'shortName': 'Джинсы', 'brandName': 'MANGUER ', 'price': 4222}\n",
      "{'shortName': \"Джинсы холщовые 'Хлопок&Лён'\", 'brandName': 'Великоросс ', 'price': 1878}\n",
      "{'shortName': 'Джинсы', 'brandName': 'TUUT VINTAGE DENIM STUDIO ', 'price': 1039}\n",
      "{'shortName': 'Джинсы', 'brandName': 'ТВОЕ ', 'price': 3196}\n",
      "{'shortName': 'Джинсы 501 Tapered Denim', 'brandName': \"Levi's® \", 'price': 5431}\n",
      "{'shortName': 'Джинсы', 'brandName': 'TUUT VINTAGE DENIM STUDIO ', 'price': 1599}\n",
      "{'shortName': 'Джинсы', 'brandName': 'Club of comfort ', 'price': 3280}\n",
      "{'shortName': 'Джинсы', 'brandName': 'JLAB ', 'price': 1715}\n",
      "{'shortName': 'Джинсы ARIZONA', 'brandName': 'Wrangler ', 'price': 2214}\n",
      "{'shortName': 'Джинсы', 'brandName': 'Fine Joyce ', 'price': 3370}\n",
      "{'shortName': 'Джинсы 502 Regular Taper', 'brandName': \"Levi's® \", 'price': 4225}\n",
      "{'shortName': 'Джинсы 512 Slim Taper', 'brandName': \"Levi's® \", 'price': 2499}\n",
      "{'shortName': 'Джинсы', 'brandName': 'ТВОЕ ', 'price': 2000}\n",
      "{'shortName': 'Джинсы', 'brandName': 'MOSSMORE ', 'price': 2796}\n",
      "{'shortName': 'Джинсы 501 Original Fit', 'brandName': \"Levi's® \", 'price': 2200}\n",
      "{'shortName': 'Джинсы', 'brandName': 'HENDERSON ', 'price': 2846}\n",
      "{'shortName': 'Джинсы', 'brandName': 'oodji ', 'price': 2446}\n",
      "{'shortName': 'Джинсы', 'brandName': 'CROWN. ', 'price': 2214}\n",
      "{'shortName': 'Джинсы', 'brandName': 'Koutons ', 'price': 2796}\n",
      "{'shortName': 'Джинсы', 'brandName': 'LEE ', 'price': 3830}\n",
      "{'shortName': 'Джинсы', 'brandName': 'Primm ', 'price': 2394}\n",
      "{'shortName': 'Джинсы', 'brandName': 'BAWER ', 'price': 2268}\n",
      "{'shortName': 'Джинсы', 'brandName': 'VELOCITY ', 'price': 3069}\n",
      "{'shortName': 'Джинсы LARSTON', 'brandName': 'Wrangler ', 'price': 3353}\n",
      "{'shortName': 'Джинсы', 'brandName': \"Colin's \", 'price': 2850}\n",
      "{'shortName': 'Джинсы', 'brandName': 'Gervanto ', 'price': 3760}\n",
      "{'shortName': 'Джинсы', 'brandName': 'TUUT VINTAGE DENIM STUDIO ', 'price': 1900}\n",
      "{'shortName': 'Джинсы', 'brandName': 'Katebi ', 'price': 1923}\n",
      "{'shortName': 'Джинсы', 'brandName': 'BAWER ', 'price': 9327}\n",
      "{'shortName': 'Джинсы', 'brandName': 'TUUT VINTAGE DENIM STUDIO ', 'price': 5737}\n",
      "{'shortName': 'Джинсы Luke', 'brandName': 'LEE ', 'price': 3295}\n",
      "{'shortName': 'Джинсы', 'brandName': 'Primm ', 'price': 3613}\n",
      "{'shortName': 'Джинсы', 'brandName': 'TUUT VINTAGE DENIM STUDIO ', 'price': 3672}\n",
      "{'shortName': 'Джинсы ARIZONA', 'brandName': 'Wrangler ', 'price': 3499}\n",
      "{'shortName': 'Джинсы', 'brandName': 'F5 ', 'price': 2274}\n",
      "{'shortName': 'Брюки Джинсы', 'brandName': 'MANGUER ', 'price': 2255}\n",
      "{'shortName': 'Джинсы', 'brandName': 'Koutons ', 'price': 4222}\n",
      "{'shortName': 'Джинсы', 'brandName': 'THE GANGSTER ', 'price': 3100}\n",
      "{'shortName': 'Джинсы', 'brandName': 'PIAGIO ', 'price': 3584}\n",
      "{'shortName': 'Джинсы TEXAS', 'brandName': 'Wrangler ', 'price': 4484}\n",
      "{'shortName': 'Джинсы', 'brandName': \"O'STIN \", 'price': 1854}\n",
      "{'shortName': 'Джинсы', 'brandName': 'JOHNWIN ', 'price': 4936}\n",
      "{'shortName': 'Джинсы', 'brandName': 'Dervirga`s ', 'price': 1890}\n",
      "{'shortName': 'Джинсы', 'brandName': 'Befree ', 'price': 5028}\n",
      "{'shortName': 'Джинсы', 'brandName': 'MUSTANG ', 'price': 1600}\n",
      "{'shortName': 'Джинсы', 'brandName': 'Love Moschino ', 'price': 2000}\n",
      "{'shortName': 'Джинсы CARROT FIT', 'brandName': 'CLIMBER ', 'price': 3978}\n",
      "{'shortName': 'Джинсы', 'brandName': 'BAWER ', 'price': 1999}\n",
      "{'shortName': 'Джинсы', 'brandName': 'VELOCITY ', 'price': 1600}\n",
      "{'shortName': 'Джинсы', 'brandName': 'VELOCITY ', 'price': 2846}\n",
      "{'shortName': 'Джинсы skinny CULVER stretch', 'brandName': 'TOM TAILOR ', 'price': 1420}\n",
      "{'shortName': 'Джинсы утепленные', 'brandName': 'F5 ', 'price': 2700}\n",
      "{'shortName': 'Джинсы', 'brandName': 'S.OLIVER ', 'price': 2796}\n",
      "{'shortName': 'Джинсы Luke', 'brandName': 'LEE ', 'price': 1689}\n",
      "{'shortName': 'Джинсы', 'brandName': 'Max Rea ', 'price': 3370}\n",
      "{'shortName': 'Джинсы', 'brandName': 'Camp David ', 'price': 2138}\n"
     ]
    }
   ],
   "source": [
    "import requests\n",
    "import json\n",
    "import re\n",
    "\n",
    "from bs4 import BeautifulSoup\n",
    "\n",
    "r = requests.get('https://www.wildberries.ru/catalog/0/search.aspx?search=%D0%BC%D1%83%D0%B6%D1%81%D0%BA%D0%B8%D0%B5%20%D1%87%D0%B5%D1%80%D0%BD%D1%8B%D0%B5%20%D0%B4%D0%B6%D0%B8%D0%BD%D1%81%D1%8B&sort=popular')\n",
    "html = r.content\n",
    "\n",
    "soup = BeautifulSoup(html, \"lxml\")\n",
    "\n",
    "soup.find_all(\"div\", {\"class\": \"dtlist-inner-brand\"})\n",
    "soup.find_all(\"strong\", {\"class\": \"brand-name\"})\n",
    "soup.find_all(\"ins\", class_='lower-price')\n",
    "data = list()\n",
    "names = list(map(lambda x: x.string, soup.find_all('span', class_=\"goods-name\")))\n",
    "brand_names = list(map(lambda x: x.contents[0], soup.find_all(\"strong\", {\"class\": \"brand-name\"})))\n",
    "prices = list(map(lambda x: re.sub(\"\\D\", \"\", x.string), soup.find_all(\"ins\", class_='lower-price')))\n",
    "for name, brandName, price in zip(names, brand_names, prices):\n",
    "        json_model = '{\"shortName\":\"' + name.replace('\"', \"'\") + '\",\"brandName\":\"' + brandName + '\",\"price\":' + price + \"}\"   \n",
    "        user_json = json.loads(json_model)\n",
    "        print(user_json)\n",
    "        data.append(json_model)\n",
    "# user_json = json.loads(\"\"\"{\"shortName\":'Джинсы',\"brandName\":\"O'STIN \",\"price\":2400}\"\"\")"
   ]
  },
  {
   "cell_type": "markdown",
   "metadata": {},
   "source": []
  },
  {
   "cell_type": "code",
   "execution_count": 44,
   "metadata": {},
   "outputs": [
    {
     "data": {
      "text/plain": [
       "'wildberries'"
      ]
     },
     "execution_count": 44,
     "metadata": {},
     "output_type": "execute_result"
    }
   ],
   "source": [
    "import re\n",
    "pattern = \"\\www.(.*?)\\.\"\n",
    "re.findall(pattern, \"'https://www.wildberries.ru/catalog/0/search.aspx?search=%D0%BC%D1%83%D0%B6%D1%81%D0%BA%D0%B8%D0%B5%20%D1%87%D0%B5%D1%80%D0%BD%D1%8B%D0%B5%20%D0%B4%D0%B6%D0%B8%D0%BD%D1%81%D1%8B&sort=popular'\")[0]\n",
    "\n",
    "                "
   ]
  }
 ],
 "metadata": {
  "kernelspec": {
   "display_name": "Python 3",
   "language": "python",
   "name": "python3"
  },
  "language_info": {
   "codemirror_mode": {
    "name": "ipython",
    "version": 3
   },
   "file_extension": ".py",
   "mimetype": "text/x-python",
   "name": "python",
   "nbconvert_exporter": "python",
   "pygments_lexer": "ipython3",
   "version": "3.7.6"
  }
 },
 "nbformat": 4,
 "nbformat_minor": 4
}
